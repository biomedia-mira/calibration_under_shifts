{
 "cells": [
  {
   "cell_type": "code",
   "execution_count": null,
   "id": "612b149c",
   "metadata": {},
   "outputs": [],
   "source": [
    "import sys\n",
    "\n",
    "sys.path.append(\"/vol/biomedic3/mb121/calibration_exploration/\")\n",
    "\n",
    "from plotting_notebooks.plotting_utils import (\n",
    "    my_pretty_plot,\n",
    ")\n",
    "import pandas as pd\n",
    "import matplotlib.pyplot as plt\n",
    "import seaborn as sns\n",
    "import numpy as np\n",
    "from collections import defaultdict\n",
    "from matplotlib import ticker\n",
    "from hydra import initialize, compose\n",
    "from classification.load_model_and_config import (\n",
    "    get_run_id_from_config,\n",
    "    _clean_config_for_backward_compatibility,\n",
    ")\n",
    "import torch\n",
    "from pathlib import Path\n",
    "\n",
    "\n",
    "def mytitle(experiment):\n",
    "    match experiment:\n",
    "        case \"base_chexpert\":\n",
    "            plt.title(\"$\\mathbf{CXR}$\")\n",
    "        case \"base_density\":\n",
    "            plt.title(\"$\\mathbf{EMBED}$\")\n",
    "        case _:\n",
    "            plt.title(\"$\\mathbf{\" + experiment.replace(\"base_\", \"\").upper() + \"}$\")"
   ]
  },
  {
   "cell_type": "code",
   "execution_count": null,
   "id": "e08bc62a",
   "metadata": {},
   "outputs": [],
   "source": [
    "from copy import deepcopy\n",
    "\n",
    "\n",
    "model = 'resnet18'\n",
    "experiment = 'base_living17'\n",
    "config_str = [\n",
    "                f\"experiment={experiment}\",\n",
    "                f'model.encoder_name={model}',\n",
    "            ]\n",
    "\n",
    "with initialize(version_base=None, config_path=\"../configs\"):\n",
    "    config = compose(\n",
    "        config_name=\"config.yaml\",\n",
    "        overrides=config_str + [\"trainer.label_smoothing=0.00\"],\n",
    "    )\n",
    "    config2 = deepcopy(config)\n",
    "    _clean_config_for_backward_compatibility(config2)\n",
    "    run_id = get_run_id_from_config(\n",
    "        config2, allow_multiple_runs=False, allow_return_none_if_no_runs=False\n",
    "    )"
   ]
  },
  {
   "cell_type": "code",
   "execution_count": null,
   "id": "0e7da154",
   "metadata": {},
   "outputs": [],
   "source": [
    "output_dir = Path(f'../outputs/run_{run_id}')\n",
    "val_results = torch.load(output_dir / \"val_outputs.pt\")\n",
    "test_results = torch.load(output_dir / \"test_outputs.pt\")"
   ]
  },
  {
   "cell_type": "code",
   "execution_count": null,
   "id": "881289ee",
   "metadata": {},
   "outputs": [],
   "source": [
    "from calibration.inference_utils import get_outputs\n",
    "import pytorch_lightning as pl\n",
    "\n",
    "from classification.classification_module import ClassificationModule\n",
    "from classification.load_model_and_config import get_modules\n",
    "\n",
    "pl.seed_everything(config.seed)\n",
    "\n",
    "data_module, _ = get_modules(config, shuffle_training=False)\n",
    "model_module = ClassificationModule.load_from_checkpoint(\n",
    "    f\"{output_dir}/best.ckpt\", config=config, strict=False\n",
    ")\n",
    "model_module.get_all_features = True\n",
    "trainer = pl.Trainer(enable_progress_bar=True)\n",
    "ood_val_results = get_outputs(\n",
    "        model_module, data_module.get_irrelevant_ood_loader(0.1), trainer\n",
    "    )"
   ]
  },
  {
   "cell_type": "code",
   "execution_count": null,
   "id": "dff87c7b",
   "metadata": {},
   "outputs": [],
   "source": [
    "test_results.keys()"
   ]
  },
  {
   "cell_type": "code",
   "execution_count": null,
   "id": "c1d50ba9",
   "metadata": {},
   "outputs": [],
   "source": [
    "feats_shift = torch.cat([test_results[k]['feats'][-1] for k in test_results.keys() if k != 'id'])\n",
    "feats_shift = feats_shift[torch.randperm(feats_shift.shape[0])[:10000]]\n",
    "feats_id = test_results['id']['feats'][-1]\n",
    "feats_id = feats_id[torch.randperm(feats_id.shape[0])[:10000]]\n",
    "print(feats_id.shape, feats_shift.shape)"
   ]
  },
  {
   "cell_type": "code",
   "execution_count": null,
   "id": "fba4161b",
   "metadata": {},
   "outputs": [],
   "source": [
    "feats_ood = ood_val_results['feats'][-1]\n",
    "feats_ood.shape"
   ]
  },
  {
   "cell_type": "code",
   "execution_count": null,
   "id": "aa2ad903",
   "metadata": {},
   "outputs": [],
   "source": [
    "from sklearn.manifold import TSNE"
   ]
  },
  {
   "cell_type": "code",
   "execution_count": null,
   "id": "ffabde6e",
   "metadata": {},
   "outputs": [],
   "source": [
    "all_feats = torch.cat([feats_id, feats_shift, feats_ood], 0)\n",
    "domains_labels = np.concatenate([\n",
    "    np.asarray(['TEST - ID' for _ in range(feats_id.shape[0])]), \n",
    "    np.asarray(['TEST - SHIFTED' for _ in range(feats_shift.shape[0])]),\n",
    "    np.asarray(['SEMANTIC OOD' for _ in range(feats_ood.shape[0])])])\n",
    "print(all_feats.shape, feats_id.shape, feats_ood.shape, feats_shift.shape)"
   ]
  },
  {
   "cell_type": "code",
   "execution_count": null,
   "id": "553c9f4c",
   "metadata": {},
   "outputs": [],
   "source": [
    "tsne = TSNE(n_components=2)\n",
    "x2d = tsne.fit_transform(all_feats)"
   ]
  },
  {
   "cell_type": "code",
   "execution_count": null,
   "id": "51511fb4",
   "metadata": {},
   "outputs": [],
   "source": [
    "sns.scatterplot(x=x2d[:,0], y=x2d[:,1], hue=domains_labels)\n",
    "mytitle(experiment)"
   ]
  },
  {
   "cell_type": "code",
   "execution_count": null,
   "id": "1e1a5d6d",
   "metadata": {},
   "outputs": [],
   "source": [
    "joint_plot = sns.jointplot(x=x2d[:,0], y=x2d[:,1], hue=domains_labels, alpha=0.7)\n",
    "plt.legend(title='')\n",
    "joint_plot.fig.axes[0].set_xlabel('')\n",
    "joint_plot.fig.axes[0].set_ylabel('')\n",
    "match experiment:\n",
    "    case \"base_chexpert\":\n",
    "        joint_plot.fig.axes[-2].set_title(\"$\\mathbf{CXR}$\")\n",
    "    case \"base_density\":\n",
    "        joint_plot.fig.axes[-2].set_title(\"$\\mathbf{EMBED}$\")\n",
    "    case _:\n",
    "        joint_plot.fig.axes[-2].set_title(\"$\\mathbf{\" + experiment.replace(\"base_\", \"\").upper() + \"}$\")\n",
    "plt.savefig(f'tsne_{experiment}.pdf', bbox_inches='tight')"
   ]
  }
 ],
 "metadata": {
  "kernelspec": {
   "display_name": "calibration",
   "language": "python",
   "name": "python3"
  },
  "language_info": {
   "codemirror_mode": {
    "name": "ipython",
    "version": 3
   },
   "file_extension": ".py",
   "mimetype": "text/x-python",
   "name": "python",
   "nbconvert_exporter": "python",
   "pygments_lexer": "ipython3",
   "version": "3.12.4"
  }
 },
 "nbformat": 4,
 "nbformat_minor": 5
}
